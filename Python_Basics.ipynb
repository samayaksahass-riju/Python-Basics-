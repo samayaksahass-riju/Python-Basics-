{
  "nbformat": 4,
  "nbformat_minor": 0,
  "metadata": {
    "colab": {
      "provenance": []
    },
    "kernelspec": {
      "name": "python3",
      "display_name": "Python 3"
    },
    "language_info": {
      "name": "python"
    }
  },
  "cells": [
    {
      "cell_type": "markdown",
      "source": [
        "1. What is Python, and why is it popular ?\n",
        "\n",
        "   -> Python is a high-level, interpreted programming language known for its simple syntax and versatility. It is popular because it’s easy to learn, has a huge community, and offers powerful libraries for fields like web development, data science, AI, and automation.\n",
        "\n",
        "2. What is an interpreter in Python ?\n",
        "\n",
        "   -> An interpreter in Python is a program that executes Python code line by line, translating it into machine code so the computer can run it directly.\n",
        "\n",
        "3. What are pre-defined keywords in Python  ?\n",
        "\n",
        "   -> Pre-defined keywords in Python are reserved words that have special meanings and functions in the language, like if,while,for,def,and class. They cannot be used as identifiers.\n",
        "\n",
        "4. Can keywords be used as variable names ?\n",
        "\n",
        "   -> No, keywords cannot be used as variable names in Python because they are reserved for specific functions in the language.\n",
        "5. What is mutability in Python ?\n",
        "\n",
        "   ->Mutability in Python refers to an object's ability to change its content after creation. Mutable objects (like lists, dictionaries) can be modified, while immutable ones (like strings, tuples) cannot.\n",
        "\n",
        "6. Why are lists mutable, but tuples are immutable ?\n",
        "\n",
        "   ->Lists are mutable because their elements can be changed, added, or removed after creation, while tuples are immutable to ensure data safety and integrity, preventing any modification once created.\n",
        "\n",
        "7. What is the difference between “==” and “is” operators in Python ?\n",
        "\n",
        "   ->`==` checks if the values of two objects are equal, while is checks if they refer to the same memory location (i.e., the same object).\n",
        "\n",
        "8. What are logical operators in Python ?\n",
        "\n",
        "   -> Logical operators in Python are used to combine conditional statements: and,or,and not.\n",
        "\n",
        "9. What is type casting in Python ?\n",
        "\n",
        "   -> Type casting in Python is the process of converting one data type into another, like converting a string to an integer using int() or a number to a string using str().\n",
        "\n",
        "10. What is the difference between implicit and explicit type casting ?\n",
        "\n",
        "   -> Implicit type casting (type conversion) is done automatically by Python, while explicit type casting is done manually by the programmer using functions like int(), float(), or str().\n",
        "\n",
        "11. What is the purpose of conditional statements in Python ?\n",
        "\n",
        "   -> The purpose of conditional statements in Python is to make decisions in code by executing certain blocks only when specific conditions are true.\n",
        "\n",
        "12.  How does the elif statement work ?\n",
        "\n",
        "  -> The elif statement checks another condition if the previous if condition is false, allowing multiple conditions to be tested one after another.\n",
        "\n",
        "13. What is the difference between for and while loops ?\n",
        "\n",
        "   -> A for loop is used when the number of iterations is known (iterating over a sequence), while a while loop is used when the iterations depend on a condition being true.\n",
        "\n",
        "14. Describe a scenario where a while loop is more suitable than a for loop.\n",
        "\n",
        "  -> A while loop is more suitable when the number of iterations is not known in advance, such as repeatedly asking a user for input until they enter the correct password."
      ],
      "metadata": {
        "id": "s4Qz_yQbA_S6"
      }
    },
    {
      "cell_type": "code",
      "execution_count": 1,
      "metadata": {
        "colab": {
          "base_uri": "https://localhost:8080/"
        },
        "id": "4snRrl7jA5n7",
        "outputId": "95378333-e644-4e0f-b0a3-aa2f5abeb91d"
      },
      "outputs": [
        {
          "output_type": "stream",
          "name": "stdout",
          "text": [
            "Hello, World!\n"
          ]
        }
      ],
      "source": [
        "### 1.Write a Python program to print \"Hello, World!\"\n",
        "print(\"Hello, World!\")\n",
        ""
      ]
    },
    {
      "cell_type": "code",
      "source": [
        "### 2.Write a Python program that displays your name and age.\n",
        "\n",
        "name = \"Samayak\"\n",
        "age = 19\n",
        "print(\"My name is\", name, \"and I am\", age, \"years old.\")\n"
      ],
      "metadata": {
        "colab": {
          "base_uri": "https://localhost:8080/"
        },
        "id": "BybOqk8bK1Qn",
        "outputId": "7c4c4643-7c80-41ee-e60d-097ed46faef6"
      },
      "execution_count": 2,
      "outputs": [
        {
          "output_type": "stream",
          "name": "stdout",
          "text": [
            "My name is Samayak and I am 19 years old.\n"
          ]
        }
      ]
    },
    {
      "cell_type": "code",
      "source": [
        "### 3. Write code to print all the pre-defined keywords in Python using the keyword library.\n",
        "\n",
        "import keyword\n",
        "\n",
        "print(\"Python Keywords are:\")\n",
        "print(keyword.kwlist)"
      ],
      "metadata": {
        "colab": {
          "base_uri": "https://localhost:8080/"
        },
        "id": "ToGdrkL_LQKr",
        "outputId": "7881afca-a968-4680-d230-b7c558f2f28d"
      },
      "execution_count": 3,
      "outputs": [
        {
          "output_type": "stream",
          "name": "stdout",
          "text": [
            "Python Keywords are:\n",
            "['False', 'None', 'True', 'and', 'as', 'assert', 'async', 'await', 'break', 'class', 'continue', 'def', 'del', 'elif', 'else', 'except', 'finally', 'for', 'from', 'global', 'if', 'import', 'in', 'is', 'lambda', 'nonlocal', 'not', 'or', 'pass', 'raise', 'return', 'try', 'while', 'with', 'yield']\n"
          ]
        }
      ]
    },
    {
      "cell_type": "code",
      "source": [
        "### 4. Write a program that checks if a given word is a Python keyword.\n",
        "import keyword\n",
        "\n",
        "word = input(\"Enter a word: \")\n",
        "\n",
        "if keyword.iskeyword(word):\n",
        "    print(word, \"is a Python keyword.\")\n",
        "else:\n",
        "    print(word, \"is not a Python keyword.\")\n"
      ],
      "metadata": {
        "colab": {
          "base_uri": "https://localhost:8080/"
        },
        "id": "hilvSNGhLsCP",
        "outputId": "9907625e-8d56-47db-f3c7-3617d3cd20a4"
      },
      "execution_count": 6,
      "outputs": [
        {
          "output_type": "stream",
          "name": "stdout",
          "text": [
            "Enter a word: oenvojnv\n",
            "oenvojnv is not a Python keyword.\n"
          ]
        }
      ]
    },
    {
      "cell_type": "code",
      "source": [
        "### 5. Create a list and tuple in Python, and demonstrate how attempting to change an element works differently for each\n",
        "\n",
        "my_list = [1, 2, 3]\n",
        "my_list[0] = 10\n",
        "print(\"Modified list:\", my_list)\n",
        "\n",
        "\n",
        "my_tuple = (1, 2, 3)\n",
        "print(\"Tuple remains unchanged:\", my_tuple)\n"
      ],
      "metadata": {
        "colab": {
          "base_uri": "https://localhost:8080/"
        },
        "id": "DvjhpzsFMExF",
        "outputId": "7981d340-0ce1-4446-cfea-d4ee8d721ce3"
      },
      "execution_count": 9,
      "outputs": [
        {
          "output_type": "stream",
          "name": "stdout",
          "text": [
            "Modified list: [10, 2, 3]\n",
            "Tuple remains unchanged: (1, 2, 3)\n"
          ]
        }
      ]
    },
    {
      "cell_type": "code",
      "source": [
        "###6. Write a function to demonstrate the behavior of mutable and immutable arguments.\n",
        "\n",
        "def modify_data(num, lst):\n",
        "    num += 10\n",
        "    lst.append(10)\n",
        "    print(\"Inside function -> num:\", num, \", lst:\", lst)\n",
        "\n",
        "n = 5\n",
        "numbers_list = [1, 2, 3]\n",
        "\n",
        "modify_data(n, numbers_list)\n",
        "print(\"Outside function -> n:\", n, \", numbers_list:\", numbers_list)\n"
      ],
      "metadata": {
        "colab": {
          "base_uri": "https://localhost:8080/"
        },
        "id": "LFqbbvd0Mekv",
        "outputId": "8d727ff1-e823-409e-ea43-3287760f9edb"
      },
      "execution_count": 11,
      "outputs": [
        {
          "output_type": "stream",
          "name": "stdout",
          "text": [
            "Inside function -> num: 15 , lst: [1, 2, 3, 10]\n",
            "Outside function -> n: 5 , numbers_list: [1, 2, 3, 10]\n"
          ]
        }
      ]
    },
    {
      "cell_type": "code",
      "source": [
        "###7. Write a program that performs basic arithmetic operations on two user-input numbers.\n",
        "# Take two numbers as input\n",
        "num1 = float(input(\"Enter first number: \"))\n",
        "num2 = float(input(\"Enter second number: \"))\n",
        "\n",
        "print(\"Addition:\", num1 + num2)\n",
        "print(\"Subtraction:\", num1 - num2)\n",
        "print(\"Multiplication:\", num1 * num2)\n",
        "print(\"Division:\", num1 / num2 if num2 != 0 else \"Cannot divide by zero\")\n",
        "print(\"Modulus:\", num1 % num2 if num2 != 0 else \"Cannot find modulus\")\n"
      ],
      "metadata": {
        "colab": {
          "base_uri": "https://localhost:8080/"
        },
        "id": "1v3-byd5Nc3P",
        "outputId": "89c57053-acca-40e9-b49c-7b5774daedec"
      },
      "execution_count": 14,
      "outputs": [
        {
          "output_type": "stream",
          "name": "stdout",
          "text": [
            "Enter first number: 12\n",
            "Enter second number: 23\n",
            "Addition: 35.0\n",
            "Subtraction: -11.0\n",
            "Multiplication: 276.0\n",
            "Division: 0.5217391304347826\n",
            "Modulus: 12.0\n"
          ]
        }
      ]
    },
    {
      "cell_type": "code",
      "source": [
        "###8. Write a program to demonstrate the use of logical operators.\n",
        "\n",
        "a = True\n",
        "b = False\n",
        "\n",
        "print(\"a and b:\", a and b)\n",
        "print(\"a or b:\", a or b)\n",
        "print(\"not a:\", not a)"
      ],
      "metadata": {
        "colab": {
          "base_uri": "https://localhost:8080/"
        },
        "id": "Qx8Pw3FSOFlX",
        "outputId": "519e607b-2bf5-4a00-f86f-4a31edfa9e27"
      },
      "execution_count": 16,
      "outputs": [
        {
          "output_type": "stream",
          "name": "stdout",
          "text": [
            "a and b: False\n",
            "a or b: True\n",
            "not a: False\n"
          ]
        }
      ]
    },
    {
      "cell_type": "code",
      "source": [
        "###9. Write a Python program to convert user input from string to integer, float, and boolean types.\n",
        "\n",
        "data = input(\"Enter a value: \")\n",
        "\n",
        "float_data = float(data)\n",
        "int_data = int(float_data)\n",
        "\n",
        "bool_data = bool(float_data)\n",
        "\n",
        "\n",
        "print(\"Integer:\", int_data)\n",
        "print(\"Float:\", float_data)\n",
        "print(\"Boolean:\", bool_data)"
      ],
      "metadata": {
        "colab": {
          "base_uri": "https://localhost:8080/"
        },
        "id": "wCiJIe42PIhH",
        "outputId": "b1e20fa7-0478-44b4-c04b-517c1ac47d16"
      },
      "execution_count": 22,
      "outputs": [
        {
          "output_type": "stream",
          "name": "stdout",
          "text": [
            "Enter a value: 23.45\n",
            "Integer: 23\n",
            "Float: 23.45\n",
            "Boolean: True\n"
          ]
        }
      ]
    },
    {
      "cell_type": "code",
      "source": [
        "### 10. Write code to demonstrate type casting with list elements.\n",
        "\n",
        "str_list = [\"1\", \"2\", \"3\", \"4\"]\n",
        "int_list = [int(x) for x in str_list]\n",
        "\n",
        "print(\"Original list (strings):\", str_list)\n",
        "print(\"Converted list (integers):\", int_list)\n"
      ],
      "metadata": {
        "colab": {
          "base_uri": "https://localhost:8080/"
        },
        "id": "RC3qUX2yPRiu",
        "outputId": "b6f70a8e-ca78-4a62-ca2f-54cda2b1f099"
      },
      "execution_count": 24,
      "outputs": [
        {
          "output_type": "stream",
          "name": "stdout",
          "text": [
            "Original list (strings): ['1', '2', '3', '4']\n",
            "Converted list (integers): [1, 2, 3, 4]\n"
          ]
        }
      ]
    },
    {
      "cell_type": "code",
      "source": [
        "### 11. Write a program that checks if a number is positive, negative, or zero\n",
        "\n",
        "num = float(input(\"Enter a number: \"))\n",
        "\n",
        "if num > 0:\n",
        "    print(\"Positive number\")\n",
        "elif num < 0:\n",
        "    print(\"Negative number\")\n",
        "else:\n",
        "    print(\"Zero\")\n"
      ],
      "metadata": {
        "colab": {
          "base_uri": "https://localhost:8080/"
        },
        "id": "1pPY1kW1QFY_",
        "outputId": "d3ec1f9d-9cad-417f-f469-a7101f26ae56"
      },
      "execution_count": 28,
      "outputs": [
        {
          "output_type": "stream",
          "name": "stdout",
          "text": [
            "Enter a number: 1\n",
            "Positive number\n"
          ]
        }
      ]
    },
    {
      "cell_type": "code",
      "source": [
        "### 12. Write a for loop to print numbers from 1 to 10.\n",
        "\n",
        "for i in range(1, 11):\n",
        "    print(i)"
      ],
      "metadata": {
        "colab": {
          "base_uri": "https://localhost:8080/"
        },
        "id": "Yh0xOjHJQmyV",
        "outputId": "9c4eb9db-734d-4a8e-9901-5e99eac8af1d"
      },
      "execution_count": 31,
      "outputs": [
        {
          "output_type": "stream",
          "name": "stdout",
          "text": [
            "1\n",
            "2\n",
            "3\n",
            "4\n",
            "5\n",
            "6\n",
            "7\n",
            "8\n",
            "9\n",
            "10\n"
          ]
        }
      ]
    },
    {
      "cell_type": "code",
      "source": [
        "### 13. Write a Python program to find the sum of all even numbers between 1 and 50.\n",
        "total_sum = 0\n",
        "for number in range(1, 51):\n",
        "  if number % 2 == 0:\n",
        "    total_sum += number\n",
        "print(\"The sum of even numbers between 1 and 50 is:\", total_sum)"
      ],
      "metadata": {
        "colab": {
          "base_uri": "https://localhost:8080/"
        },
        "id": "HzeGtMGIRDyX",
        "outputId": "03ce8b78-88f5-477b-ea19-fd10c639b3c5"
      },
      "execution_count": 32,
      "outputs": [
        {
          "output_type": "stream",
          "name": "stdout",
          "text": [
            "The sum of even numbers between 1 and 50 is: 650\n"
          ]
        }
      ]
    },
    {
      "cell_type": "code",
      "source": [
        "### 14. Write a program to reverse a string using a while loop.\n",
        "input_string = input(\"Enter a string to reverse: \")\n",
        "reversed_string = \"\"\n",
        "index = len(input_string) - 1\n",
        "\n",
        "while index >= 0:\n",
        "    reversed_string += input_string[index]\n",
        "    index -= 1\n",
        "\n",
        "print(\"Original string:\", input_string)\n",
        "print(\"Reversed string:\", reversed_string)"
      ],
      "metadata": {
        "colab": {
          "base_uri": "https://localhost:8080/"
        },
        "id": "wSr9bZ_nRS8U",
        "outputId": "e3086dd9-417a-4459-e350-531636881e95"
      },
      "execution_count": 35,
      "outputs": [
        {
          "output_type": "stream",
          "name": "stdout",
          "text": [
            "Enter a string to reverse: ###\n",
            "Original string: ###\n",
            "Reversed string: ###\n"
          ]
        }
      ]
    },
    {
      "cell_type": "code",
      "source": [
        "### 15. Write a Python program to calculate the factorial of a number provided by the user using a while loop.\n",
        "\n",
        "num = int(input(\"Enter a non-negative integer: \"))\n",
        "\n",
        "if num < 0:\n",
        "    print(\"Factorial is not defined for negative numbers\")\n",
        "elif num == 0:\n",
        "    print(\"The factorial of 0 is 1\")\n",
        "else:\n",
        "    factorial = 1\n",
        "    i = 1\n",
        "    while i <= num:\n",
        "        factorial *= i\n",
        "        i += 1\n",
        "    print(\"The factorial of\", num, \"is\", factorial)"
      ],
      "metadata": {
        "colab": {
          "base_uri": "https://localhost:8080/"
        },
        "id": "jjAuc-_LReMR",
        "outputId": "eb2b222d-2069-4a39-eebe-e7afeb6f1a2f"
      },
      "execution_count": 40,
      "outputs": [
        {
          "output_type": "stream",
          "name": "stdout",
          "text": [
            "Enter a non-negative integer: 1234\n",
            "The factorial of 1234 is 51084981466469576881306176261004598750272741624636207875758364885679783886389114119904367398214909451616865959797190085595957216060201081790863562740711392408402606162284424347926444168293770306459877429620549980121621880068812119922825565603750036793657428476498577316887890689284884464423522469162924654419945496940052746066950867784084753581540148194316888303839694860870357008235525028115281402379270279446743097868896180567901452872031734195056432576568754346528258569883526859826727735838654082246721751819658052692396270611348013013786739320229706009940781025586038809493013992111030432473321532228589636150722621360366978607484692870955691740723349227220367512994355146567475980006373400215826077949494335370591623671142026957923937669224771617167959359650439966392673073180139376563073706562200771241291710828132078928672693377605280698340976512622686207175259108984253979970269330591951400265868944014001740606398220709859461709972092316953639707607509036387468655214963966625322700932867195641466506305265122238332824677892386098873045477946570475614470735681011537762930068333229753461311175690053190276217215938122229254011663319535668562288276814566536254139944327446923749675156838399258655227114181067181300031191298489076680172983118121156086627360397334232174932132686080901569496392129263706595509472541921027039947595787992209537069031379517112985804276412719491334730247762876260753560199012424360211862466047511184797159731714330368251192307852167757615200611669009575630075581632200897019110165738489288234845801413542090086926381756642228872729319587724120647133695447658709466047131787467521648967375146176025775545958018149895570817463048968329692812003996105944812538484291689075721849889797647554854834050132592317503861422078077932841396250772305892378304960421024845815047928229669342818218960243579473180986996883486164613586224677782405363675732940386436560159992961462550218529921214223556288943276860000631422449845365510986932611414112386178573447134236164502410346254516421812825350152383907925299199371093902393126317590337340371199288380603694517035662665827287352023563128756402516081749705325705196477769315311164029733067419282135214232605607889159739038923579732630816548135472123812968829466513428484683760888731900685205308016495533252055718190142644320009683032677163609744614629730631454898167462966265387871725580083514565623719270635683662268663333999029883429331462872848995229714115709023973771126468913873648061531223428749576267079084534656923514931496743842559669386638509884709307166187205161445819828263679270112614012378542273837296427044021252077863706963514486218183806491868791174785424506337810550453063897866281127060200866754011181906809870372032953354528699094096145120997842075109057859226120844176454175393781254004382091350994101959406590175402086698874583611581937347003423449521223245166665792257252160462357733000925232292157683100179557359793926298007588370474068230320921987459976042606283566005158202572800000000000000000000000000000000000000000000000000000000000000000000000000000000000000000000000000000000000000000000000000000000000000000000000000000000000000000000000000000000000000000000000000000000000000000000000000000000000000000000000000000000000000000000000000000000000000000000000000000000000000000\n"
          ]
        }
      ]
    }
  ]
}